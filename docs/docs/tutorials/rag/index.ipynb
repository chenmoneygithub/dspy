{
 "cells": [
  {
   "cell_type": "markdown",
   "metadata": {},
   "source": [
    "# Tutorial: Retrieval-Augmented Generation (RAG)\n",
    "\n",
    "Let's walk through a quick example of **basic question answering** with and without **retrieval-augmented generation** (RAG) in DSPy. Specifically, let's build **a system for answering Tech questions**, e.g. about Linux or iPhone apps.\n",
    "\n",
    "Install the latest DSPy via `pip install -U dspy` and follow along. If you're looking instead for a conceptual overview of DSPy, this [recent lecture](https://www.youtube.com/live/JEMYuzrKLUw) is a good place to start."
   ]
  },
  {
   "cell_type": "markdown",
   "metadata": {},
   "source": [
    "\n",
    "## Configuring the DSPy Environment\n",
    "\n",
    "Let's tell DSPy that we will use OpenAI's `gpt-4o-mini` in our modules. To authenticate, DSPy will look into your `OPENAI_API_KEY`. You can easily swap this out for [other providers or local models](https://github.com/stanfordnlp/dspy/blob/main/examples/migration.ipynb).\n"
   ]
  },
  {
   "cell_type": "markdown",
   "metadata": {},
   "source": [
    "<details>\n",
    "<summary>Recommended: Set up MLflow Tracing to understand what's happening under the hood.</summary>\n",
    "\n",
    "### MLflow DSPy Integration\n",
    "\n",
    "<a href=\"https://mlflow.org/\">MLflow</a> is an LLMOps tool that natively integrates with DSPy and offer explainability and experiment tracking. In this tutorial, you can use MLflow to visualize prompts and optimization progress as traces to understand the DSPy's behavior better. You can set up MLflow easily by following the four steps below.\n",
    "\n",
    "![MLflow Trace](./mlflow-tracing-rag.png)\n",
    "\n",
    "1. Install MLflow\n",
    "\n",
    "```bash\n",
    "%pip install mlflow>=2.20\n",
    "```\n",
    "\n",
    "2. Start MLflow UI in a separate terminal\n",
    "```bash\n",
    "mlflow ui --port 5000\n",
    "```\n",
    "\n",
    "3. Connect the notebook to MLflow\n",
    "```python\n",
    "import mlflow\n",
    "\n",
    "mlflow.set_tracking_uri(\"http://localhost:5000\")\n",
    "mlflow.set_experiment(\"DSPy\")\n",
    "```\n",
    "\n",
    "4. Enabling tracing.\n",
    "```python\n",
    "mlflow.dspy.autolog()\n",
    "```\n",
    "\n",
    "Once you have completed the steps above, you can see traces for each program execution on the notebook. They provide great visibility into the model's behavior and helps you understand the DSPy's concepts better throughout the tutorial.\n",
    "\n",
    "To kearn more about the integration, visit [MLflow DSPy Documentation](https://mlflow.org/docs/latest/llms/dspy/index.html) as well.\n",
    "\n",
    "</details>"
   ]
  },
  {
   "cell_type": "code",
   "execution_count": 2,
   "metadata": {},
   "outputs": [],
   "source": [
    "import dspy\n",
    "import os\n",
    "\n",
    "os.environ[\"OPENAI_API_KEY\"] = \"{your_openai_api_key}\"\n",
    "\n",
    "lm = dspy.LM(\"openai/gpt-4o-mini\")\n",
    "dspy.configure(lm=lm)"
   ]
  },
  {
   "cell_type": "markdown",
   "metadata": {},
   "source": [
    "## Basic Retrieval-Augmented Generation (RAG)\n",
    "\n",
    "First, let's download the corpus data that we will use for RAG search. An older version of this tutorial used the full (650,000 document) corpus. To make this very fast and cheap to run, we've downsampled the corpus to just 28,000 documents."
   ]
  },
  {
   "cell_type": "code",
   "execution_count": 3,
   "metadata": {},
   "outputs": [
    {
     "name": "stdout",
     "output_type": "stream",
     "text": [
      "Downloading 'ragqa_arena_tech_corpus.jsonl'...\n"
     ]
    }
   ],
   "source": [
    "dspy.utils.download(\"https://huggingface.co/dspy/cache/resolve/main/ragqa_arena_tech_corpus.jsonl\")"
   ]
  },
  {
   "cell_type": "markdown",
   "metadata": {},
   "source": [
    "## Setting Up Your Retriever\n",
    "\n",
    "As far as DSPy is concerned, you can plug in any Python code for calling tools or retrievers. Here, we'll just use OpenAI Embeddings and do top-K search locally for convenience. We will use a vector index based on FAISS (https://github.com/facebookresearch/faiss), so please install it via:\n",
    "\n",
    "```bash\n",
    "pip insall -U faiss-cpu\n",
    "```\n",
    "\n",
    "Or if you have GPU in your runtime:\n",
    "\n",
    "```bash\n",
    "pip install -U faiss-gpu\n",
    "```"
   ]
  },
  {
   "cell_type": "markdown",
   "metadata": {},
   "source": [
    "Now let's create the `retriever` (vector index) for our RAG application. We will use the `dspy.retrievers.Embeddings` API, which indexes data via an embedding model and FAISS, and at query time, it fetches the closest data to the query in the embedding space."
   ]
  },
  {
   "cell_type": "code",
   "execution_count": null,
   "metadata": {},
   "outputs": [
    {
     "name": "stdout",
     "output_type": "stream",
     "text": [
      "Loaded 28436 documents. Will encode them below.\n",
      "Training a 32-byte FAISS index with 337 partitions, based on 28436 x 512-dim embeddings\n"
     ]
    }
   ],
   "source": [
    "import ujson\n",
    "\n",
    "max_characters = 6000  # for truncating >99th percentile of documents\n",
    "topk_docs_to_retrieve = 5  # number of documents to retrieve per search query\n",
    "\n",
    "with open(\"ragqa_arena_tech_corpus.jsonl\") as f:\n",
    "    corpus = [ujson.loads(line)[\"text\"][:max_characters] for line in f]\n",
    "    print(f\"Loaded {len(corpus)} documents. Will encode them below.\")\n",
    "\n",
    "embedder = dspy.Embedder(\"openai/text-embedding-3-small\", dimensions=512)\n",
    "retriever = dspy.retrievers.Embeddings(embedder=embedder, corpus=corpus, k=topk_docs_to_retrieve)"
   ]
  },
  {
   "cell_type": "markdown",
   "metadata": {},
   "source": [
    "\n",
    "## Building Your RAG Application\n",
    "\n",
    "Now it's time to build the RAG application! As covered in the tutorial [Building AI Applications by Customizing DSPy Modules](https://dspy.ai/tutorials/custom_module/), we will put our RAG's logic into a custom DSPy module.\n",
    "\n",
    "Our RAG takes a very simple structure - we query the retriever to get relevant context, then generate answer based on the question and fetched context."
   ]
  },
  {
   "cell_type": "code",
   "execution_count": 21,
   "metadata": {},
   "outputs": [],
   "source": [
    "class RAG(dspy.Module):\n",
    "    def __init__(self):\n",
    "        self.respond = dspy.ChainOfThought(\"context, question -> response\")\n",
    "\n",
    "    def forward(self, question, **kwargs):\n",
    "        context = retriever(question).passages\n",
    "        return self.respond(context=context, question=question)"
   ]
  },
  {
   "cell_type": "markdown",
   "metadata": {},
   "source": [
    "Let's create a RAG instance and call it with some random technical question.\n"
   ]
  },
  {
   "cell_type": "code",
   "execution_count": 23,
   "metadata": {},
   "outputs": [
    {
     "data": {
      "text/plain": [
       "Prediction(\n",
       "    reasoning=\"High memory and low memory in Linux refer to two distinct segments of the kernel's memory space. Low memory is the portion of memory that the kernel can access directly and is statically mapped at boot time, allowing for efficient access. High memory, on the other hand, is not permanently mapped in the kernel's address space, meaning that the kernel must map it temporarily when it needs to access it. This distinction is crucial for managing memory in a 32-bit architecture, where the kernel needs to handle more memory than it can directly address. High memory is typically used for temporary data buffers, while low memory is used for kernel operations.\",\n",
       "    response=\"In Linux, high memory refers to the segment of memory that is not permanently mapped in the kernel's address space, requiring the kernel to map it temporarily for access. Low memory, conversely, is the portion that the kernel can access directly and is statically mapped at boot time. This separation allows user-space applications to operate in their own memory space without directly accessing kernel memory, enhancing system stability and security.\"\n",
       ")"
      ]
     },
     "execution_count": 23,
     "metadata": {},
     "output_type": "execute_result"
    }
   ],
   "source": [
    "rag = RAG()\n",
    "rag(question=\"what are high memory and low memory on linux?\")"
   ]
  },
  {
   "cell_type": "code",
   "execution_count": 12,
   "metadata": {},
   "outputs": [
    {
     "name": "stdout",
     "output_type": "stream",
     "text": [
      "\n",
      "\n",
      "\n",
      "\n",
      "\u001b[34m[2025-06-17T16:19:13.986128]\u001b[0m\n",
      "\n",
      "\u001b[31mSystem message:\u001b[0m\n",
      "\n",
      "Your input fields are:\n",
      "1. `context` (str): \n",
      "2. `question` (str):\n",
      "Your output fields are:\n",
      "1. `reasoning` (str): \n",
      "2. `response` (str):\n",
      "All interactions will be structured in the following way, with the appropriate values filled in.\n",
      "\n",
      "[[ ## context ## ]]\n",
      "{context}\n",
      "\n",
      "[[ ## question ## ]]\n",
      "{question}\n",
      "\n",
      "[[ ## reasoning ## ]]\n",
      "{reasoning}\n",
      "\n",
      "[[ ## response ## ]]\n",
      "{response}\n",
      "\n",
      "[[ ## completed ## ]]\n",
      "In adhering to this structure, your objective is: \n",
      "        Given the fields `context`, `question`, produce the fields `response`.\n",
      "\n",
      "\n",
      "\u001b[31mUser message:\u001b[0m\n",
      "\n",
      "[[ ## context ## ]]\n",
      "[1] «As far as I remember, High Memory is used for application space and Low Memory for the kernel. Advantage is that (user-space) applications cant access kernel-space memory.»\n",
      "[2] «HIGHMEM is a range of kernels memory space, but it is NOT memory you access but its a place where you put what you want to access. A typical 32bit Linux virtual memory map is like: 0x00000000-0xbfffffff: user process (3GB) 0xc0000000-0xffffffff: kernel space (1GB) (CPU-specific vector and whatsoever are ignored here). Linux splits the 1GB kernel space into 2 pieces, LOWMEM and HIGHMEM. The split varies from installation to installation. If an installation chooses, say, 512MB-512MB for LOW and HIGH mems, the 512MB LOWMEM (0xc0000000-0xdfffffff) is statically mapped at the kernel boot time; usually the first so many bytes of the physical memory is used for this so that virtual and physical addresses in this range have a constant offset of, say, 0xc0000000. On the other hand, the latter 512MB (HIGHMEM) has no static mapping (although you could leave pages semi-permanently mapped there, but you must do so explicitly in your driver code). Instead, pages are temporarily mapped and unmapped here so that virtual and physical addresses in this range have no consistent mapping. Typical uses of HIGHMEM include single-time data buffers.»\n",
      "[3] «This is relevant to the Linux kernel; Im not sure how any Unix kernel handles this. The High Memory is the segment of memory that user-space programs can address. It cannot touch Low Memory. Low Memory is the segment of memory that the Linux kernel can address directly. If the kernel must access High Memory, it has to map it into its own address space first. There was a patch introduced recently that lets you control where the segment is. The tradeoff is that you can take addressable memory away from user space so that the kernel can have more memory that it does not have to map before using. Additional resources: http://tldp.org/HOWTO/KernelAnalysis-HOWTO-7.html http://linux-mm.org/HighMemory»\n",
      "[4] «The first reference to turn to is Linux Device Drivers (available both online and in book form), particularly chapter 15 which has a section on the topic. In an ideal world, every system component would be able to map all the memory it ever needs to access. And this is the case for processes on Linux and most operating systems: a 32-bit process can only access a little less than 2^32 bytes of virtual memory (in fact about 3GB on a typical Linux 32-bit architecture). It gets difficult for the kernel, which needs to be able to map the full memory of the process whose system call its executing, plus the whole physical memory, plus any other memory-mapped hardware device. So when a 32-bit kernel needs to map more than 4GB of memory, it must be compiled with high memory support. High memory is memory which is not permanently mapped in the kernels address space. (Low memory is the opposite: it is always mapped, so you can access it in the kernel simply by dereferencing a pointer.) When you access high memory from kernel code, you need to call kmap first, to obtain a pointer from a page data structure (struct page). Calling kmap works whether the page is in high or low memory. There is also kmap_atomic which has added constraints but is more efficient on multiprocessor machines because it uses finer-grained locking. The pointer obtained through kmap is a resource: it uses up address space. Once youve finished with it, you must call kunmap (or kunmap_atomic) to free that resource; then the pointer is no longer valid, and the contents of the page cant be accessed until you call kmap again.»\n",
      "[5] «Since you dont mention, Im assuming this is on Linux. Any of the following should show you (with root): dmidecode -t memory dmidecode -t 16 lshw -class memory»\n",
      "\n",
      "[[ ## question ## ]]\n",
      "what are high memory and low memory on linux?\n",
      "\n",
      "Respond with the corresponding output fields, starting with the field `[[ ## reasoning ## ]]`, then `[[ ## response ## ]]`, and then ending with the marker for `[[ ## completed ## ]]`.\n",
      "\n",
      "\n",
      "\u001b[31mResponse:\u001b[0m\n",
      "\n",
      "\u001b[32m[[ ## reasoning ## ]]\n",
      "High memory and low memory in Linux refer to two distinct segments of the kernel's memory space. Low memory is the portion of memory that the kernel can access directly and is statically mapped at boot time, allowing for efficient access. High memory, on the other hand, is not permanently mapped in the kernel's address space, meaning that the kernel must map it temporarily when it needs to access it. This distinction is crucial for managing memory in a 32-bit architecture, where the kernel needs to handle more memory than it can directly address. High memory is typically used for temporary data buffers, while low memory is used for kernel operations.\n",
      "\n",
      "[[ ## response ## ]]\n",
      "In Linux, high memory refers to the segment of memory that is not permanently mapped in the kernel's address space, requiring the kernel to map it temporarily for access. Low memory, conversely, is the portion that the kernel can access directly and is statically mapped at boot time. This separation allows user-space applications to operate in their own memory space without directly accessing kernel memory, enhancing system stability and security.\n",
      "\n",
      "[[ ## completed ## ]]\u001b[0m\n",
      "\n",
      "\n",
      "\n",
      "\n",
      "\n"
     ]
    }
   ],
   "source": [
    "dspy.inspect_history()"
   ]
  },
  {
   "cell_type": "markdown",
   "metadata": {},
   "source": [
    "## Using a DSPy Optimizer to Improve Your RAG Prompt\n",
    "\n",
    "You can stop reading if you just want to build a RAG application with DSPy, in this section we are going to show how to use DSPy optimizer to improve the program's quality."
   ]
  },
  {
   "cell_type": "markdown",
   "metadata": {},
   "source": [
    "Let's first evaluate the RAG we built. In order to evaluate a RAG application, we need a dataset along with an evaluation metric. For this purpose, we will use the [RAG-QA dataset](https://arxiv.org/abs/2407.13998) as the evaluation dataset, and [SemanticF1](https://karmake2.github.io/files/Publications/2022/SEM_F1.pdf) as the evaluation metric. Let's download the dataset and import the evaluation metric."
   ]
  },
  {
   "cell_type": "code",
   "execution_count": 13,
   "metadata": {},
   "outputs": [
    {
     "name": "stdout",
     "output_type": "stream",
     "text": [
      "Downloading 'ragqa_arena_tech_examples.jsonl'...\n"
     ]
    }
   ],
   "source": [
    "import ujson\n",
    "from dspy.utils import download\n",
    "\n",
    "# Download question--answer pairs from the RAG-QA Arena \"Tech\" dataset.\n",
    "download(\"https://huggingface.co/dspy/cache/resolve/main/ragqa_arena_tech_examples.jsonl\")\n",
    "\n",
    "with open(\"ragqa_arena_tech_examples.jsonl\") as f:\n",
    "    data = [ujson.loads(line) for line in f]\n",
    "\n",
    "# Convert the data into a list of `dspy.Example` objects so that we can use them for `dspy.Evaluate`.\n",
    "data = [dspy.Example(**d).with_inputs(\"question\") for d in data]"
   ]
  },
  {
   "cell_type": "markdown",
   "metadata": {},
   "source": [
    "Let's take a look at a sample data record and some metadata of the dataset."
   ]
  },
  {
   "cell_type": "code",
   "execution_count": 17,
   "metadata": {},
   "outputs": [
    {
     "name": "stdout",
     "output_type": "stream",
     "text": [
      "Data size: 2064\n",
      "Example({'question': 'why igp is used in mpls?', 'response': \"An IGP exchanges routing prefixes between gateways/routers.  \\nWithout a routing protocol, you'd have to configure each route on every router and you'd have no dynamic updates when routes change because of link failures. \\nFuthermore, within an MPLS network, an IGP is vital for advertising the internal topology and ensuring connectivity for MP-BGP inside the network.\", 'gold_doc_ids': [2822, 2823]}) (input_keys={'question'})\n"
     ]
    }
   ],
   "source": [
    "print(f\"Data size: {len(data)}\")\n",
    "print(data[0])"
   ]
  },
  {
   "cell_type": "markdown",
   "metadata": {},
   "source": [
    "Each data has 3 fields:\n",
    "\n",
    "- question\n",
    "- response\n",
    "- gold_doc_ids\n",
    "\n",
    "For our evaluation purpose, we only use the question and response field.\n",
    "\n",
    "Let's take some slices of the dataset to be the training and validation dataset."
   ]
  },
  {
   "cell_type": "code",
   "execution_count": 18,
   "metadata": {},
   "outputs": [],
   "source": [
    "import random\n",
    "\n",
    "random.Random(0).shuffle(data)\n",
    "trainset, devset = data[:200], data[200:500]"
   ]
  },
  {
   "cell_type": "markdown",
   "metadata": {},
   "source": [
    "Now let's evaluate our RAG application to get a sense of how it performs. For a complete guide on how to evaluate a DSPy program, please refer to the [evaluation guide](https://dspy.ai/learn/evaluation/overview/)."
   ]
  },
  {
   "cell_type": "code",
   "execution_count": 19,
   "metadata": {},
   "outputs": [
    {
     "name": "stdout",
     "output_type": "stream",
     "text": [
      "Average Metric: 163.55 / 300 (54.5%): 100%|██████████| 300/300 [03:17<00:00,  1.52it/s]"
     ]
    },
    {
     "name": "stderr",
     "output_type": "stream",
     "text": [
      "2025/06/17 19:43:05 INFO dspy.evaluate.evaluate: Average Metric: 163.5533565284151 / 300 (54.5%)\n"
     ]
    },
    {
     "name": "stdout",
     "output_type": "stream",
     "text": [
      "\n"
     ]
    },
    {
     "data": {
      "text/html": [
       "<div>\n",
       "<style scoped>\n",
       "    .dataframe tbody tr th:only-of-type {\n",
       "        vertical-align: middle;\n",
       "    }\n",
       "\n",
       "    .dataframe tbody tr th {\n",
       "        vertical-align: top;\n",
       "    }\n",
       "\n",
       "    .dataframe thead th {\n",
       "        text-align: right;\n",
       "    }\n",
       "</style>\n",
       "<table border=\"1\" class=\"dataframe\">\n",
       "  <thead>\n",
       "    <tr style=\"text-align: right;\">\n",
       "      <th></th>\n",
       "      <th>question</th>\n",
       "      <th>example_response</th>\n",
       "      <th>gold_doc_ids</th>\n",
       "      <th>reasoning</th>\n",
       "      <th>pred_response</th>\n",
       "      <th>SemanticF1</th>\n",
       "    </tr>\n",
       "  </thead>\n",
       "  <tbody>\n",
       "    <tr>\n",
       "      <th>0</th>\n",
       "      <td>when to use c over c++, and c++ over c?</td>\n",
       "      <td>If you are equally familiar with both C++ and C, it's advisable to...</td>\n",
       "      <td>[733]</td>\n",
       "      <td>C should be used over C++ primarily in scenarios where simplicity,...</td>\n",
       "      <td>Use C over C++ when working on embedded systems, requiring low-lev...</td>\n",
       "      <td>✔️ [0.364]</td>\n",
       "    </tr>\n",
       "    <tr>\n",
       "      <th>1</th>\n",
       "      <td>should images be stored in a git repository?</td>\n",
       "      <td>One viewpoint expresses that there is no significant downside, esp...</td>\n",
       "      <td>[6253, 6254, 6275, 6278, 8215]</td>\n",
       "      <td>Storing images in a Git repository can be problematic due to Git's...</td>\n",
       "      <td>While it is technically possible to store images in a Git reposito...</td>\n",
       "      <td>✔️ [0.444]</td>\n",
       "    </tr>\n",
       "    <tr>\n",
       "      <th>2</th>\n",
       "      <td>how to chmod without /usr/bin/chmod?</td>\n",
       "      <td>Run the loader directly, and pass it the command you want to run: ...</td>\n",
       "      <td>[3252, 3254, 3270, 1964, 4222, 8050]</td>\n",
       "      <td>To change file permissions without using the `/usr/bin/chmod` comm...</td>\n",
       "      <td>You can change file permissions without using `/usr/bin/chmod` by ...</td>\n",
       "      <td>✔️ [0.500]</td>\n",
       "    </tr>\n",
       "    <tr>\n",
       "      <th>3</th>\n",
       "      <td>how to show the filesystem type via the terminal?</td>\n",
       "      <td>To determine the type of file system used, you can employ the moun...</td>\n",
       "      <td>[8248]</td>\n",
       "      <td>To show the filesystem type via the terminal, you can use several ...</td>\n",
       "      <td>You can show the filesystem type via the terminal using the follow...</td>\n",
       "      <td></td>\n",
       "    </tr>\n",
       "    <tr>\n",
       "      <th>4</th>\n",
       "      <td>can i get the cpu temperature and fan speed from the command line ...</td>\n",
       "      <td>The iStats ruby gem allows you to monitor the CPU temperature with...</td>\n",
       "      <td>[4354, 4784]</td>\n",
       "      <td>Yes, you can get the CPU temperature and fan speed from the comman...</td>\n",
       "      <td>Yes, you can get the CPU temperature using the command `sudo power...</td>\n",
       "      <td>✔️ [0.667]</td>\n",
       "    </tr>\n",
       "    <tr>\n",
       "      <th>5</th>\n",
       "      <td>how can i see my home folder in the finder?</td>\n",
       "      <td>To navigate to your home folder on a Mac, you can use the keyboard...</td>\n",
       "      <td>[6416, 6423, 6424, 2591]</td>\n",
       "      <td>To see your home folder in Finder, you can use several methods. On...</td>\n",
       "      <td>You can see your home folder in Finder by looking for it in the si...</td>\n",
       "      <td>✔️ [0.500]</td>\n",
       "    </tr>\n",
       "    <tr>\n",
       "      <th>6</th>\n",
       "      <td>can you see when someone is looking at your location?</td>\n",
       "      <td>When using Find My Friends, your friends will not be aware if you ...</td>\n",
       "      <td>[1951, 1954]</td>\n",
       "      <td>Based on the provided context, when someone is using location-shar...</td>\n",
       "      <td>No, you cannot see when someone is looking at your location. When ...</td>\n",
       "      <td>✔️ [0.797]</td>\n",
       "    </tr>\n",
       "    <tr>\n",
       "      <th>7</th>\n",
       "      <td>is a zip code considered pii?</td>\n",
       "      <td>On one hand, some argue that by itself, a zip code cannot be class...</td>\n",
       "      <td>[4775, 4777, 4779, 5541]</td>\n",
       "      <td>A zip code can be considered personally identifiable information (...</td>\n",
       "      <td>Yes, a zip code can be considered PII, especially when combined wi...</td>\n",
       "      <td>✔️ [0.600]</td>\n",
       "    </tr>\n",
       "    <tr>\n",
       "      <th>8</th>\n",
       "      <td>why is my message not delivered imessage?</td>\n",
       "      <td>\"Not Delivered\" implies an error of some kind, perhaps because the...</td>\n",
       "      <td>[7645, 4712]</td>\n",
       "      <td>Your message may not be delivered in iMessage for several reasons....</td>\n",
       "      <td>Your message may not be delivered due to several factors, such as ...</td>\n",
       "      <td>✔️ [0.381]</td>\n",
       "    </tr>\n",
       "    <tr>\n",
       "      <th>9</th>\n",
       "      <td>how to buy an app for a friend?</td>\n",
       "      <td>Google Play Gift Cards have become widely accessible in numerous c...</td>\n",
       "      <td>[383]</td>\n",
       "      <td>To buy an app for a friend, you can use the gifting feature availa...</td>\n",
       "      <td>To buy an app for a friend, you can gift the app directly through ...</td>\n",
       "      <td></td>\n",
       "    </tr>\n",
       "  </tbody>\n",
       "</table>\n",
       "</div>"
      ],
      "text/plain": [
       "                                                                question  \\\n",
       "0                                when to use c over c++, and c++ over c?   \n",
       "1                           should images be stored in a git repository?   \n",
       "2                                   how to chmod without /usr/bin/chmod?   \n",
       "3                      how to show the filesystem type via the terminal?   \n",
       "4  can i get the cpu temperature and fan speed from the command line ...   \n",
       "5                            how can i see my home folder in the finder?   \n",
       "6                  can you see when someone is looking at your location?   \n",
       "7                                          is a zip code considered pii?   \n",
       "8                              why is my message not delivered imessage?   \n",
       "9                                        how to buy an app for a friend?   \n",
       "\n",
       "                                                        example_response  \\\n",
       "0  If you are equally familiar with both C++ and C, it's advisable to...   \n",
       "1  One viewpoint expresses that there is no significant downside, esp...   \n",
       "2  Run the loader directly, and pass it the command you want to run: ...   \n",
       "3  To determine the type of file system used, you can employ the moun...   \n",
       "4  The iStats ruby gem allows you to monitor the CPU temperature with...   \n",
       "5  To navigate to your home folder on a Mac, you can use the keyboard...   \n",
       "6  When using Find My Friends, your friends will not be aware if you ...   \n",
       "7  On one hand, some argue that by itself, a zip code cannot be class...   \n",
       "8  \"Not Delivered\" implies an error of some kind, perhaps because the...   \n",
       "9  Google Play Gift Cards have become widely accessible in numerous c...   \n",
       "\n",
       "                           gold_doc_ids  \\\n",
       "0                                 [733]   \n",
       "1        [6253, 6254, 6275, 6278, 8215]   \n",
       "2  [3252, 3254, 3270, 1964, 4222, 8050]   \n",
       "3                                [8248]   \n",
       "4                          [4354, 4784]   \n",
       "5              [6416, 6423, 6424, 2591]   \n",
       "6                          [1951, 1954]   \n",
       "7              [4775, 4777, 4779, 5541]   \n",
       "8                          [7645, 4712]   \n",
       "9                                 [383]   \n",
       "\n",
       "                                                               reasoning  \\\n",
       "0  C should be used over C++ primarily in scenarios where simplicity,...   \n",
       "1  Storing images in a Git repository can be problematic due to Git's...   \n",
       "2  To change file permissions without using the `/usr/bin/chmod` comm...   \n",
       "3  To show the filesystem type via the terminal, you can use several ...   \n",
       "4  Yes, you can get the CPU temperature and fan speed from the comman...   \n",
       "5  To see your home folder in Finder, you can use several methods. On...   \n",
       "6  Based on the provided context, when someone is using location-shar...   \n",
       "7  A zip code can be considered personally identifiable information (...   \n",
       "8  Your message may not be delivered in iMessage for several reasons....   \n",
       "9  To buy an app for a friend, you can use the gifting feature availa...   \n",
       "\n",
       "                                                           pred_response  \\\n",
       "0  Use C over C++ when working on embedded systems, requiring low-lev...   \n",
       "1  While it is technically possible to store images in a Git reposito...   \n",
       "2  You can change file permissions without using `/usr/bin/chmod` by ...   \n",
       "3  You can show the filesystem type via the terminal using the follow...   \n",
       "4  Yes, you can get the CPU temperature using the command `sudo power...   \n",
       "5  You can see your home folder in Finder by looking for it in the si...   \n",
       "6  No, you cannot see when someone is looking at your location. When ...   \n",
       "7  Yes, a zip code can be considered PII, especially when combined wi...   \n",
       "8  Your message may not be delivered due to several factors, such as ...   \n",
       "9  To buy an app for a friend, you can gift the app directly through ...   \n",
       "\n",
       "   SemanticF1  \n",
       "0  ✔️ [0.364]  \n",
       "1  ✔️ [0.444]  \n",
       "2  ✔️ [0.500]  \n",
       "3              \n",
       "4  ✔️ [0.667]  \n",
       "5  ✔️ [0.500]  \n",
       "6  ✔️ [0.797]  \n",
       "7  ✔️ [0.600]  \n",
       "8  ✔️ [0.381]  \n",
       "9              "
      ]
     },
     "metadata": {},
     "output_type": "display_data"
    },
    {
     "data": {
      "text/html": [
       "\n",
       "            <div style='\n",
       "                text-align: center;\n",
       "                font-size: 16px;\n",
       "                font-weight: bold;\n",
       "                color: #555;\n",
       "                margin: 10px 0;'>\n",
       "                ... 290 more rows not displayed ...\n",
       "            </div>\n",
       "            "
      ],
      "text/plain": [
       "<IPython.core.display.HTML object>"
      ]
     },
     "metadata": {},
     "output_type": "display_data"
    },
    {
     "data": {
      "text/plain": [
       "54.52"
      ]
     },
     "execution_count": 19,
     "metadata": {},
     "output_type": "execute_result"
    }
   ],
   "source": [
    "from dspy.evaluate import SemanticF1\n",
    "\n",
    "# Instantiate the metric.\n",
    "metric = SemanticF1(decompositional=True)\n",
    "\n",
    "# Define an evaluator that we can re-use.\n",
    "evaluate = dspy.Evaluate(\n",
    "    devset=devset,\n",
    "    metric=metric,\n",
    "    num_threads=24,\n",
    "    display_progress=True,\n",
    "    display_table=10,\n",
    ")\n",
    "\n",
    "# Evaluate the rag application we just built.\n",
    "evaluate(rag)"
   ]
  },
  {
   "cell_type": "markdown",
   "metadata": {},
   "source": [
    "Off the shelf, our `RAG` module scores ~54.5%. What are our options to make it stronger? You may think about prompt engineering, like making the instruction more comprehensive or provide a few examples. DSPy provides another option to use DSPy optimizers to automatically optimize our RAG's prompt.\n",
    "\n",
    "Let's set up and use DSPy's MIPRO (v2) optimizer. The run below has a cost around $0.5 (for the `light` auto setting) and may take some 10-20 minutes depending on your number of threads."
   ]
  },
  {
   "cell_type": "code",
   "execution_count": 25,
   "metadata": {},
   "outputs": [
    {
     "name": "stderr",
     "output_type": "stream",
     "text": [
      "2025/06/17 20:17:43 INFO dspy.teleprompt.mipro_optimizer_v2: \n",
      "RUNNING WITH THE FOLLOWING LIGHT AUTO RUN SETTINGS:\n",
      "num_trials: 10\n",
      "minibatch: True\n",
      "num_fewshot_candidates: 6\n",
      "num_instruct_candidates: 3\n",
      "valset size: 100\n",
      "\n",
      "2025/06/17 20:17:43 INFO dspy.teleprompt.mipro_optimizer_v2: \n",
      "==> STEP 1: BOOTSTRAP FEWSHOT EXAMPLES <==\n",
      "2025/06/17 20:17:43 INFO dspy.teleprompt.mipro_optimizer_v2: These will be used as few-shot example candidates for our program and for creating instructions.\n",
      "\n",
      "2025/06/17 20:17:43 INFO dspy.teleprompt.mipro_optimizer_v2: Bootstrapping N=6 sets of demonstrations...\n"
     ]
    },
    {
     "name": "stdout",
     "output_type": "stream",
     "text": [
      "Bootstrapping set 1/6\n",
      "Bootstrapping set 2/6\n",
      "Bootstrapping set 3/6\n"
     ]
    },
    {
     "name": "stderr",
     "output_type": "stream",
     "text": [
      " 10%|█         | 4/40 [00:00<00:05,  6.29it/s]\n"
     ]
    },
    {
     "name": "stdout",
     "output_type": "stream",
     "text": [
      "Bootstrapped 2 full traces after 4 examples for up to 1 rounds, amounting to 4 attempts.\n",
      "Bootstrapping set 4/6\n"
     ]
    },
    {
     "name": "stderr",
     "output_type": "stream",
     "text": [
      "  5%|▌         | 2/40 [00:26<08:19, 13.14s/it]\n"
     ]
    },
    {
     "name": "stdout",
     "output_type": "stream",
     "text": [
      "Bootstrapped 1 full traces after 2 examples for up to 1 rounds, amounting to 2 attempts.\n",
      "Bootstrapping set 5/6\n"
     ]
    },
    {
     "name": "stderr",
     "output_type": "stream",
     "text": [
      " 10%|█         | 4/40 [01:11<10:45, 17.93s/it]\n"
     ]
    },
    {
     "name": "stdout",
     "output_type": "stream",
     "text": [
      "Bootstrapped 2 full traces after 4 examples for up to 1 rounds, amounting to 4 attempts.\n",
      "Bootstrapping set 6/6\n"
     ]
    },
    {
     "name": "stderr",
     "output_type": "stream",
     "text": [
      "  5%|▌         | 2/40 [00:36<11:28, 18.13s/it]\n",
      "2025/06/17 20:19:58 INFO dspy.teleprompt.mipro_optimizer_v2: \n",
      "==> STEP 2: PROPOSE INSTRUCTION CANDIDATES <==\n",
      "2025/06/17 20:19:58 INFO dspy.teleprompt.mipro_optimizer_v2: We will use the few-shot examples from the previous step, a generated dataset summary, a summary of the program code, and a randomly selected prompting tip to propose instructions.\n",
      "2025/06/17 20:19:58 INFO dspy.teleprompt.mipro_optimizer_v2: \n",
      "Proposing N=3 instructions...\n",
      "\n",
      "2025/06/17 20:19:58 WARNING dspy.primitives.program: Calling GenerateModuleInstruction.forward() directly is discouraged. Please use GenerateModuleInstruction() instead.\n"
     ]
    },
    {
     "name": "stdout",
     "output_type": "stream",
     "text": [
      "Bootstrapped 2 full traces after 2 examples for up to 1 rounds, amounting to 2 attempts.\n",
      "Error getting source code: unhashable type: 'dict'.\n",
      "\n",
      "Running without program aware proposer.\n"
     ]
    },
    {
     "name": "stderr",
     "output_type": "stream",
     "text": [
      "2025/06/17 20:19:59 WARNING dspy.primitives.program: Calling GenerateModuleInstruction.forward() directly is discouraged. Please use GenerateModuleInstruction() instead.\n",
      "2025/06/17 20:20:02 WARNING dspy.primitives.program: Calling GenerateModuleInstruction.forward() directly is discouraged. Please use GenerateModuleInstruction() instead.\n",
      "2025/06/17 20:20:03 INFO dspy.teleprompt.mipro_optimizer_v2: Proposed Instructions for Predictor 0:\n",
      "\n",
      "2025/06/17 20:20:03 INFO dspy.teleprompt.mipro_optimizer_v2: 0: Given the fields `context`, `question`, produce the fields `response`.\n",
      "\n",
      "2025/06/17 20:20:03 INFO dspy.teleprompt.mipro_optimizer_v2: 1: Imagine you are a technical support specialist tasked with resolving urgent user issues related to macOS and command line environments. A user has reached out in a panic because they cannot find their account pictures and need them for an important presentation in just a few hours. Your job is to provide a clear, step-by-step response to the following question: \"Where does macOS store account pictures?\" Ensure your response is thorough, includes all relevant locations, and is accessible to users of varying skill levels.\n",
      "\n",
      "2025/06/17 20:20:03 INFO dspy.teleprompt.mipro_optimizer_v2: 2: Given the context provided, answer the following question with a detailed and clear response: {question}\n",
      "\n",
      "2025/06/17 20:20:03 INFO dspy.teleprompt.mipro_optimizer_v2: \n",
      "\n",
      "2025/06/17 20:20:03 INFO dspy.teleprompt.mipro_optimizer_v2: ==> STEP 3: FINDING OPTIMAL PROMPT PARAMETERS <==\n",
      "2025/06/17 20:20:03 INFO dspy.teleprompt.mipro_optimizer_v2: We will evaluate the program over a series of trials with different combinations of instructions and few-shot examples to find the optimal combination using Bayesian Optimization.\n",
      "\n",
      "2025/06/17 20:20:03 INFO dspy.teleprompt.mipro_optimizer_v2: == Trial 1 / 13 - Full Evaluation of Default Program ==\n"
     ]
    },
    {
     "name": "stdout",
     "output_type": "stream",
     "text": [
      "Average Metric: 52.24 / 100 (52.2%): 100%|██████████| 100/100 [00:03<00:00, 32.08it/s]"
     ]
    },
    {
     "name": "stderr",
     "output_type": "stream",
     "text": [
      "2025/06/17 20:20:06 INFO dspy.evaluate.evaluate: Average Metric: 52.240583970223014 / 100 (52.2%)\n",
      "2025/06/17 20:20:06 INFO dspy.teleprompt.mipro_optimizer_v2: Default program score: 52.24\n",
      "\n",
      "2025/06/17 20:20:06 INFO dspy.teleprompt.mipro_optimizer_v2: == Trial 2 / 13 - Minibatch ==\n"
     ]
    },
    {
     "name": "stdout",
     "output_type": "stream",
     "text": [
      "\n",
      "Average Metric: 20.92 / 35 (59.8%): 100%|██████████| 35/35 [00:38<00:00,  1.11s/it]"
     ]
    },
    {
     "name": "stderr",
     "output_type": "stream",
     "text": [
      "2025/06/17 20:20:45 INFO dspy.evaluate.evaluate: Average Metric: 20.924469148217348 / 35 (59.8%)\n",
      "2025/06/17 20:20:45 INFO dspy.teleprompt.mipro_optimizer_v2: Score: 59.78 on minibatch of size 35 with parameters ['Predictor 0: Instruction 1', 'Predictor 0: Few-Shot Set 3'].\n",
      "2025/06/17 20:20:45 INFO dspy.teleprompt.mipro_optimizer_v2: Minibatch scores so far: [59.78]\n",
      "2025/06/17 20:20:45 INFO dspy.teleprompt.mipro_optimizer_v2: Full eval scores so far: [52.24]\n",
      "2025/06/17 20:20:45 INFO dspy.teleprompt.mipro_optimizer_v2: Best full score so far: 52.24\n",
      "2025/06/17 20:20:45 INFO dspy.teleprompt.mipro_optimizer_v2: =========================================\n",
      "\n",
      "\n",
      "2025/06/17 20:20:45 INFO dspy.teleprompt.mipro_optimizer_v2: == Trial 3 / 13 - Minibatch ==\n"
     ]
    },
    {
     "name": "stdout",
     "output_type": "stream",
     "text": [
      "\n",
      "Average Metric: 20.07 / 35 (57.4%): 100%|██████████| 35/35 [00:40<00:00,  1.17s/it]"
     ]
    },
    {
     "name": "stderr",
     "output_type": "stream",
     "text": [
      "2025/06/17 20:21:26 INFO dspy.evaluate.evaluate: Average Metric: 20.074049254214792 / 35 (57.4%)\n",
      "2025/06/17 20:21:26 INFO dspy.teleprompt.mipro_optimizer_v2: Score: 57.35 on minibatch of size 35 with parameters ['Predictor 0: Instruction 2', 'Predictor 0: Few-Shot Set 0'].\n",
      "2025/06/17 20:21:26 INFO dspy.teleprompt.mipro_optimizer_v2: Minibatch scores so far: [59.78, 57.35]\n",
      "2025/06/17 20:21:26 INFO dspy.teleprompt.mipro_optimizer_v2: Full eval scores so far: [52.24]\n",
      "2025/06/17 20:21:26 INFO dspy.teleprompt.mipro_optimizer_v2: Best full score so far: 52.24\n",
      "2025/06/17 20:21:26 INFO dspy.teleprompt.mipro_optimizer_v2: =========================================\n",
      "\n",
      "\n",
      "2025/06/17 20:21:26 INFO dspy.teleprompt.mipro_optimizer_v2: == Trial 4 / 13 - Minibatch ==\n"
     ]
    },
    {
     "name": "stdout",
     "output_type": "stream",
     "text": [
      "\n",
      "Average Metric: 20.45 / 35 (58.4%): 100%|██████████| 35/35 [00:37<00:00,  1.08s/it]"
     ]
    },
    {
     "name": "stderr",
     "output_type": "stream",
     "text": [
      "2025/06/17 20:22:04 INFO dspy.evaluate.evaluate: Average Metric: 20.452614424867754 / 35 (58.4%)\n",
      "2025/06/17 20:22:04 INFO dspy.teleprompt.mipro_optimizer_v2: Score: 58.44 on minibatch of size 35 with parameters ['Predictor 0: Instruction 1', 'Predictor 0: Few-Shot Set 5'].\n",
      "2025/06/17 20:22:04 INFO dspy.teleprompt.mipro_optimizer_v2: Minibatch scores so far: [59.78, 57.35, 58.44]\n",
      "2025/06/17 20:22:04 INFO dspy.teleprompt.mipro_optimizer_v2: Full eval scores so far: [52.24]\n",
      "2025/06/17 20:22:04 INFO dspy.teleprompt.mipro_optimizer_v2: Best full score so far: 52.24\n",
      "2025/06/17 20:22:04 INFO dspy.teleprompt.mipro_optimizer_v2: =========================================\n",
      "\n",
      "\n",
      "2025/06/17 20:22:04 INFO dspy.teleprompt.mipro_optimizer_v2: == Trial 5 / 13 - Minibatch ==\n"
     ]
    },
    {
     "name": "stdout",
     "output_type": "stream",
     "text": [
      "\n",
      "Average Metric: 20.86 / 35 (59.6%): 100%|██████████| 35/35 [00:39<00:00,  1.13s/it]"
     ]
    },
    {
     "name": "stderr",
     "output_type": "stream",
     "text": [
      "2025/06/17 20:22:43 INFO dspy.evaluate.evaluate: Average Metric: 20.863533031592333 / 35 (59.6%)\n",
      "2025/06/17 20:22:43 INFO dspy.teleprompt.mipro_optimizer_v2: Score: 59.61 on minibatch of size 35 with parameters ['Predictor 0: Instruction 2', 'Predictor 0: Few-Shot Set 2'].\n",
      "2025/06/17 20:22:43 INFO dspy.teleprompt.mipro_optimizer_v2: Minibatch scores so far: [59.78, 57.35, 58.44, 59.61]\n",
      "2025/06/17 20:22:43 INFO dspy.teleprompt.mipro_optimizer_v2: Full eval scores so far: [52.24]\n",
      "2025/06/17 20:22:43 INFO dspy.teleprompt.mipro_optimizer_v2: Best full score so far: 52.24\n",
      "2025/06/17 20:22:43 INFO dspy.teleprompt.mipro_optimizer_v2: =========================================\n",
      "\n",
      "\n",
      "2025/06/17 20:22:43 INFO dspy.teleprompt.mipro_optimizer_v2: == Trial 6 / 13 - Minibatch ==\n"
     ]
    },
    {
     "name": "stdout",
     "output_type": "stream",
     "text": [
      "\n",
      "Average Metric: 22.50 / 35 (64.3%): 100%|██████████| 35/35 [00:42<00:00,  1.22s/it]"
     ]
    },
    {
     "name": "stderr",
     "output_type": "stream",
     "text": [
      "2025/06/17 20:23:26 INFO dspy.evaluate.evaluate: Average Metric: 22.504307654109333 / 35 (64.3%)\n",
      "2025/06/17 20:23:26 INFO dspy.teleprompt.mipro_optimizer_v2: Score: 64.3 on minibatch of size 35 with parameters ['Predictor 0: Instruction 0', 'Predictor 0: Few-Shot Set 5'].\n",
      "2025/06/17 20:23:26 INFO dspy.teleprompt.mipro_optimizer_v2: Minibatch scores so far: [59.78, 57.35, 58.44, 59.61, 64.3]\n",
      "2025/06/17 20:23:26 INFO dspy.teleprompt.mipro_optimizer_v2: Full eval scores so far: [52.24]\n",
      "2025/06/17 20:23:26 INFO dspy.teleprompt.mipro_optimizer_v2: Best full score so far: 52.24\n",
      "2025/06/17 20:23:26 INFO dspy.teleprompt.mipro_optimizer_v2: =========================================\n",
      "\n",
      "\n",
      "2025/06/17 20:23:26 INFO dspy.teleprompt.mipro_optimizer_v2: ===== Trial 7 / 13 - Full Evaluation =====\n",
      "2025/06/17 20:23:26 INFO dspy.teleprompt.mipro_optimizer_v2: Doing full eval on next top averaging program (Avg Score: 64.3) from minibatch trials...\n"
     ]
    },
    {
     "name": "stdout",
     "output_type": "stream",
     "text": [
      "\n",
      "Average Metric: 58.65 / 100 (58.7%): 100%|██████████| 100/100 [01:02<00:00,  1.61it/s]"
     ]
    },
    {
     "name": "stderr",
     "output_type": "stream",
     "text": [
      "2025/06/17 20:24:28 INFO dspy.evaluate.evaluate: Average Metric: 58.65054658356367 / 100 (58.7%)\n",
      "2025/06/17 20:24:28 INFO dspy.teleprompt.mipro_optimizer_v2: \u001b[92mNew best full eval score!\u001b[0m Score: 58.65\n",
      "2025/06/17 20:24:28 INFO dspy.teleprompt.mipro_optimizer_v2: Full eval scores so far: [52.24, 58.65]\n",
      "2025/06/17 20:24:28 INFO dspy.teleprompt.mipro_optimizer_v2: Best full score so far: 58.65\n",
      "2025/06/17 20:24:28 INFO dspy.teleprompt.mipro_optimizer_v2: =======================\n",
      "2025/06/17 20:24:28 INFO dspy.teleprompt.mipro_optimizer_v2: \n",
      "\n",
      "2025/06/17 20:24:28 INFO dspy.teleprompt.mipro_optimizer_v2: == Trial 8 / 13 - Minibatch ==\n"
     ]
    },
    {
     "name": "stdout",
     "output_type": "stream",
     "text": [
      "\n",
      "Average Metric: 19.34 / 35 (55.3%): 100%|██████████| 35/35 [00:24<00:00,  1.44it/s]"
     ]
    },
    {
     "name": "stderr",
     "output_type": "stream",
     "text": [
      "2025/06/17 20:24:53 INFO dspy.evaluate.evaluate: Average Metric: 19.338979262327037 / 35 (55.3%)\n",
      "2025/06/17 20:24:53 INFO dspy.teleprompt.mipro_optimizer_v2: Score: 55.25 on minibatch of size 35 with parameters ['Predictor 0: Instruction 2', 'Predictor 0: Few-Shot Set 0'].\n",
      "2025/06/17 20:24:53 INFO dspy.teleprompt.mipro_optimizer_v2: Minibatch scores so far: [59.78, 57.35, 58.44, 59.61, 64.3, 55.25]\n",
      "2025/06/17 20:24:53 INFO dspy.teleprompt.mipro_optimizer_v2: Full eval scores so far: [52.24, 58.65]\n",
      "2025/06/17 20:24:53 INFO dspy.teleprompt.mipro_optimizer_v2: Best full score so far: 58.65\n",
      "2025/06/17 20:24:53 INFO dspy.teleprompt.mipro_optimizer_v2: =========================================\n",
      "\n",
      "\n",
      "2025/06/17 20:24:53 INFO dspy.teleprompt.mipro_optimizer_v2: == Trial 9 / 13 - Minibatch ==\n"
     ]
    },
    {
     "name": "stdout",
     "output_type": "stream",
     "text": [
      "\n",
      "Average Metric: 17.95 / 35 (51.3%): 100%|██████████| 35/35 [00:47<00:00,  1.37s/it]"
     ]
    },
    {
     "name": "stderr",
     "output_type": "stream",
     "text": [
      "2025/06/17 20:25:41 INFO dspy.evaluate.evaluate: Average Metric: 17.95395292302051 / 35 (51.3%)\n",
      "2025/06/17 20:25:41 INFO dspy.teleprompt.mipro_optimizer_v2: Score: 51.3 on minibatch of size 35 with parameters ['Predictor 0: Instruction 2', 'Predictor 0: Few-Shot Set 5'].\n",
      "2025/06/17 20:25:41 INFO dspy.teleprompt.mipro_optimizer_v2: Minibatch scores so far: [59.78, 57.35, 58.44, 59.61, 64.3, 55.25, 51.3]\n",
      "2025/06/17 20:25:41 INFO dspy.teleprompt.mipro_optimizer_v2: Full eval scores so far: [52.24, 58.65]\n",
      "2025/06/17 20:25:41 INFO dspy.teleprompt.mipro_optimizer_v2: Best full score so far: 58.65\n",
      "2025/06/17 20:25:41 INFO dspy.teleprompt.mipro_optimizer_v2: =========================================\n",
      "\n",
      "\n",
      "2025/06/17 20:25:41 INFO dspy.teleprompt.mipro_optimizer_v2: == Trial 10 / 13 - Minibatch ==\n"
     ]
    },
    {
     "name": "stdout",
     "output_type": "stream",
     "text": [
      "\n",
      "Average Metric: 20.54 / 35 (58.7%): 100%|██████████| 35/35 [00:31<00:00,  1.12it/s]"
     ]
    },
    {
     "name": "stderr",
     "output_type": "stream",
     "text": [
      "2025/06/17 20:26:12 INFO dspy.evaluate.evaluate: Average Metric: 20.543559645193525 / 35 (58.7%)\n",
      "2025/06/17 20:26:12 INFO dspy.teleprompt.mipro_optimizer_v2: Score: 58.7 on minibatch of size 35 with parameters ['Predictor 0: Instruction 1', 'Predictor 0: Few-Shot Set 4'].\n",
      "2025/06/17 20:26:12 INFO dspy.teleprompt.mipro_optimizer_v2: Minibatch scores so far: [59.78, 57.35, 58.44, 59.61, 64.3, 55.25, 51.3, 58.7]\n",
      "2025/06/17 20:26:12 INFO dspy.teleprompt.mipro_optimizer_v2: Full eval scores so far: [52.24, 58.65]\n",
      "2025/06/17 20:26:12 INFO dspy.teleprompt.mipro_optimizer_v2: Best full score so far: 58.65\n",
      "2025/06/17 20:26:12 INFO dspy.teleprompt.mipro_optimizer_v2: ==========================================\n",
      "\n",
      "\n",
      "2025/06/17 20:26:12 INFO dspy.teleprompt.mipro_optimizer_v2: == Trial 11 / 13 - Minibatch ==\n"
     ]
    },
    {
     "name": "stdout",
     "output_type": "stream",
     "text": [
      "\n",
      "Average Metric: 20.26 / 35 (57.9%): 100%|██████████| 35/35 [00:01<00:00, 24.41it/s]"
     ]
    },
    {
     "name": "stderr",
     "output_type": "stream",
     "text": [
      "2025/06/17 20:26:14 INFO dspy.evaluate.evaluate: Average Metric: 20.255674014148813 / 35 (57.9%)\n",
      "2025/06/17 20:26:14 INFO dspy.teleprompt.mipro_optimizer_v2: Score: 57.87 on minibatch of size 35 with parameters ['Predictor 0: Instruction 0', 'Predictor 0: Few-Shot Set 5'].\n",
      "2025/06/17 20:26:14 INFO dspy.teleprompt.mipro_optimizer_v2: Minibatch scores so far: [59.78, 57.35, 58.44, 59.61, 64.3, 55.25, 51.3, 58.7, 57.87]\n",
      "2025/06/17 20:26:14 INFO dspy.teleprompt.mipro_optimizer_v2: Full eval scores so far: [52.24, 58.65]\n",
      "2025/06/17 20:26:14 INFO dspy.teleprompt.mipro_optimizer_v2: Best full score so far: 58.65\n",
      "2025/06/17 20:26:14 INFO dspy.teleprompt.mipro_optimizer_v2: ==========================================\n",
      "\n",
      "\n",
      "2025/06/17 20:26:14 INFO dspy.teleprompt.mipro_optimizer_v2: == Trial 12 / 13 - Minibatch ==\n"
     ]
    },
    {
     "name": "stdout",
     "output_type": "stream",
     "text": [
      "\n",
      "Average Metric: 18.27 / 35 (52.2%): 100%|██████████| 35/35 [00:42<00:00,  1.20s/it]"
     ]
    },
    {
     "name": "stderr",
     "output_type": "stream",
     "text": [
      "2025/06/17 20:26:56 INFO dspy.evaluate.evaluate: Average Metric: 18.266113519144685 / 35 (52.2%)\n",
      "2025/06/17 20:26:56 INFO dspy.teleprompt.mipro_optimizer_v2: Score: 52.19 on minibatch of size 35 with parameters ['Predictor 0: Instruction 1', 'Predictor 0: Few-Shot Set 3'].\n",
      "2025/06/17 20:26:56 INFO dspy.teleprompt.mipro_optimizer_v2: Minibatch scores so far: [59.78, 57.35, 58.44, 59.61, 64.3, 55.25, 51.3, 58.7, 57.87, 52.19]\n",
      "2025/06/17 20:26:56 INFO dspy.teleprompt.mipro_optimizer_v2: Full eval scores so far: [52.24, 58.65]\n",
      "2025/06/17 20:26:56 INFO dspy.teleprompt.mipro_optimizer_v2: Best full score so far: 58.65\n",
      "2025/06/17 20:26:56 INFO dspy.teleprompt.mipro_optimizer_v2: ==========================================\n",
      "\n",
      "\n",
      "2025/06/17 20:26:56 INFO dspy.teleprompt.mipro_optimizer_v2: ===== Trial 13 / 13 - Full Evaluation =====\n",
      "2025/06/17 20:26:56 INFO dspy.teleprompt.mipro_optimizer_v2: Doing full eval on next top averaging program (Avg Score: 59.61) from minibatch trials...\n"
     ]
    },
    {
     "name": "stdout",
     "output_type": "stream",
     "text": [
      "\n",
      "Average Metric: 57.01 / 100 (57.0%): 100%|██████████| 100/100 [01:02<00:00,  1.61it/s]"
     ]
    },
    {
     "name": "stderr",
     "output_type": "stream",
     "text": [
      "2025/06/17 20:27:58 INFO dspy.evaluate.evaluate: Average Metric: 57.006762023295245 / 100 (57.0%)\n",
      "2025/06/17 20:27:58 INFO dspy.teleprompt.mipro_optimizer_v2: Full eval scores so far: [52.24, 58.65, 57.01]\n",
      "2025/06/17 20:27:58 INFO dspy.teleprompt.mipro_optimizer_v2: Best full score so far: 58.65\n",
      "2025/06/17 20:27:58 INFO dspy.teleprompt.mipro_optimizer_v2: =======================\n",
      "2025/06/17 20:27:58 INFO dspy.teleprompt.mipro_optimizer_v2: \n",
      "\n",
      "2025/06/17 20:27:58 INFO dspy.teleprompt.mipro_optimizer_v2: Returning best identified program with score 58.65!\n"
     ]
    },
    {
     "name": "stdout",
     "output_type": "stream",
     "text": [
      "\n",
      "Average Metric: 180.78 / 300 (60.3%): 100%|██████████| 300/300 [03:13<00:00,  1.55it/s]"
     ]
    },
    {
     "name": "stderr",
     "output_type": "stream",
     "text": [
      "2025/06/17 20:31:12 INFO dspy.evaluate.evaluate: Average Metric: 180.78224801513014 / 300 (60.3%)\n"
     ]
    },
    {
     "name": "stdout",
     "output_type": "stream",
     "text": [
      "\n"
     ]
    },
    {
     "data": {
      "text/html": [
       "<div>\n",
       "<style scoped>\n",
       "    .dataframe tbody tr th:only-of-type {\n",
       "        vertical-align: middle;\n",
       "    }\n",
       "\n",
       "    .dataframe tbody tr th {\n",
       "        vertical-align: top;\n",
       "    }\n",
       "\n",
       "    .dataframe thead th {\n",
       "        text-align: right;\n",
       "    }\n",
       "</style>\n",
       "<table border=\"1\" class=\"dataframe\">\n",
       "  <thead>\n",
       "    <tr style=\"text-align: right;\">\n",
       "      <th></th>\n",
       "      <th>question</th>\n",
       "      <th>example_response</th>\n",
       "      <th>gold_doc_ids</th>\n",
       "      <th>reasoning</th>\n",
       "      <th>pred_response</th>\n",
       "      <th>SemanticF1</th>\n",
       "    </tr>\n",
       "  </thead>\n",
       "  <tbody>\n",
       "    <tr>\n",
       "      <th>0</th>\n",
       "      <td>when to use c over c++, and c++ over c?</td>\n",
       "      <td>If you are equally familiar with both C++ and C, it's advisable to...</td>\n",
       "      <td>[733]</td>\n",
       "      <td>The context outlines several scenarios where one might choose C ov...</td>\n",
       "      <td>You should consider using C over C++ in the following scenarios: 1...</td>\n",
       "      <td>✔️ [0.400]</td>\n",
       "    </tr>\n",
       "    <tr>\n",
       "      <th>1</th>\n",
       "      <td>should images be stored in a git repository?</td>\n",
       "      <td>One viewpoint expresses that there is no significant downside, esp...</td>\n",
       "      <td>[6253, 6254, 6275, 6278, 8215]</td>\n",
       "      <td>Storing images in a Git repository can be problematic due to Git's...</td>\n",
       "      <td>Storing images in a Git repository is generally not recommended du...</td>\n",
       "      <td>✔️ [0.444]</td>\n",
       "    </tr>\n",
       "    <tr>\n",
       "      <th>2</th>\n",
       "      <td>how to chmod without /usr/bin/chmod?</td>\n",
       "      <td>Run the loader directly, and pass it the command you want to run: ...</td>\n",
       "      <td>[3252, 3254, 3270, 1964, 4222, 8050]</td>\n",
       "      <td>The context provides several alternative methods to change file pe...</td>\n",
       "      <td>To change file permissions without using `/usr/bin/chmod`, you can...</td>\n",
       "      <td>✔️ [0.500]</td>\n",
       "    </tr>\n",
       "    <tr>\n",
       "      <th>3</th>\n",
       "      <td>how to show the filesystem type via the terminal?</td>\n",
       "      <td>To determine the type of file system used, you can employ the moun...</td>\n",
       "      <td>[8248]</td>\n",
       "      <td>To show the filesystem type via the terminal, there are several co...</td>\n",
       "      <td>To show the filesystem type via the terminal, you can use the foll...</td>\n",
       "      <td>✔️ [0.400]</td>\n",
       "    </tr>\n",
       "    <tr>\n",
       "      <th>4</th>\n",
       "      <td>can i get the cpu temperature and fan speed from the command line ...</td>\n",
       "      <td>The iStats ruby gem allows you to monitor the CPU temperature with...</td>\n",
       "      <td>[4354, 4784]</td>\n",
       "      <td>Yes, you can get the CPU temperature and fan speed from the comman...</td>\n",
       "      <td>Yes, you can get the CPU temperature and fan speed from the comman...</td>\n",
       "      <td>✔️ [0.769]</td>\n",
       "    </tr>\n",
       "    <tr>\n",
       "      <th>5</th>\n",
       "      <td>how can i see my home folder in the finder?</td>\n",
       "      <td>To navigate to your home folder on a Mac, you can use the keyboard...</td>\n",
       "      <td>[6416, 6423, 6424, 2591]</td>\n",
       "      <td>To see your home folder in Finder, there are several methods you c...</td>\n",
       "      <td>To see your home folder in Finder, you can use one of the followin...</td>\n",
       "      <td>✔️ [0.600]</td>\n",
       "    </tr>\n",
       "    <tr>\n",
       "      <th>6</th>\n",
       "      <td>can you see when someone is looking at your location?</td>\n",
       "      <td>When using Find My Friends, your friends will not be aware if you ...</td>\n",
       "      <td>[1951, 1954]</td>\n",
       "      <td>Based on the context provided, when someone is using location-shar...</td>\n",
       "      <td>No, you cannot see when someone is looking at your location throug...</td>\n",
       "      <td>✔️ [0.774]</td>\n",
       "    </tr>\n",
       "    <tr>\n",
       "      <th>7</th>\n",
       "      <td>is a zip code considered pii?</td>\n",
       "      <td>On one hand, some argue that by itself, a zip code cannot be class...</td>\n",
       "      <td>[4775, 4777, 4779, 5541]</td>\n",
       "      <td>The classification of a zip code as Personally Identifiable Inform...</td>\n",
       "      <td>A zip code is not considered PII by itself, as it does not uniquel...</td>\n",
       "      <td>✔️ [0.750]</td>\n",
       "    </tr>\n",
       "    <tr>\n",
       "      <th>8</th>\n",
       "      <td>why is my message not delivered imessage?</td>\n",
       "      <td>\"Not Delivered\" implies an error of some kind, perhaps because the...</td>\n",
       "      <td>[7645, 4712]</td>\n",
       "      <td>The context explains several reasons why an iMessage may not be ma...</td>\n",
       "      <td>Your iMessage may not be delivered for several reasons. The recipi...</td>\n",
       "      <td>✔️ [0.708]</td>\n",
       "    </tr>\n",
       "    <tr>\n",
       "      <th>9</th>\n",
       "      <td>how to buy an app for a friend?</td>\n",
       "      <td>Google Play Gift Cards have become widely accessible in numerous c...</td>\n",
       "      <td>[383]</td>\n",
       "      <td>To buy an app for a friend, the most straightforward method is to ...</td>\n",
       "      <td>To buy an app for a friend, you can use the following methods: 1. ...</td>\n",
       "      <td>✔️ [0.284]</td>\n",
       "    </tr>\n",
       "  </tbody>\n",
       "</table>\n",
       "</div>"
      ],
      "text/plain": [
       "                                                                question  \\\n",
       "0                                when to use c over c++, and c++ over c?   \n",
       "1                           should images be stored in a git repository?   \n",
       "2                                   how to chmod without /usr/bin/chmod?   \n",
       "3                      how to show the filesystem type via the terminal?   \n",
       "4  can i get the cpu temperature and fan speed from the command line ...   \n",
       "5                            how can i see my home folder in the finder?   \n",
       "6                  can you see when someone is looking at your location?   \n",
       "7                                          is a zip code considered pii?   \n",
       "8                              why is my message not delivered imessage?   \n",
       "9                                        how to buy an app for a friend?   \n",
       "\n",
       "                                                        example_response  \\\n",
       "0  If you are equally familiar with both C++ and C, it's advisable to...   \n",
       "1  One viewpoint expresses that there is no significant downside, esp...   \n",
       "2  Run the loader directly, and pass it the command you want to run: ...   \n",
       "3  To determine the type of file system used, you can employ the moun...   \n",
       "4  The iStats ruby gem allows you to monitor the CPU temperature with...   \n",
       "5  To navigate to your home folder on a Mac, you can use the keyboard...   \n",
       "6  When using Find My Friends, your friends will not be aware if you ...   \n",
       "7  On one hand, some argue that by itself, a zip code cannot be class...   \n",
       "8  \"Not Delivered\" implies an error of some kind, perhaps because the...   \n",
       "9  Google Play Gift Cards have become widely accessible in numerous c...   \n",
       "\n",
       "                           gold_doc_ids  \\\n",
       "0                                 [733]   \n",
       "1        [6253, 6254, 6275, 6278, 8215]   \n",
       "2  [3252, 3254, 3270, 1964, 4222, 8050]   \n",
       "3                                [8248]   \n",
       "4                          [4354, 4784]   \n",
       "5              [6416, 6423, 6424, 2591]   \n",
       "6                          [1951, 1954]   \n",
       "7              [4775, 4777, 4779, 5541]   \n",
       "8                          [7645, 4712]   \n",
       "9                                 [383]   \n",
       "\n",
       "                                                               reasoning  \\\n",
       "0  The context outlines several scenarios where one might choose C ov...   \n",
       "1  Storing images in a Git repository can be problematic due to Git's...   \n",
       "2  The context provides several alternative methods to change file pe...   \n",
       "3  To show the filesystem type via the terminal, there are several co...   \n",
       "4  Yes, you can get the CPU temperature and fan speed from the comman...   \n",
       "5  To see your home folder in Finder, there are several methods you c...   \n",
       "6  Based on the context provided, when someone is using location-shar...   \n",
       "7  The classification of a zip code as Personally Identifiable Inform...   \n",
       "8  The context explains several reasons why an iMessage may not be ma...   \n",
       "9  To buy an app for a friend, the most straightforward method is to ...   \n",
       "\n",
       "                                                           pred_response  \\\n",
       "0  You should consider using C over C++ in the following scenarios: 1...   \n",
       "1  Storing images in a Git repository is generally not recommended du...   \n",
       "2  To change file permissions without using `/usr/bin/chmod`, you can...   \n",
       "3  To show the filesystem type via the terminal, you can use the foll...   \n",
       "4  Yes, you can get the CPU temperature and fan speed from the comman...   \n",
       "5  To see your home folder in Finder, you can use one of the followin...   \n",
       "6  No, you cannot see when someone is looking at your location throug...   \n",
       "7  A zip code is not considered PII by itself, as it does not uniquel...   \n",
       "8  Your iMessage may not be delivered for several reasons. The recipi...   \n",
       "9  To buy an app for a friend, you can use the following methods: 1. ...   \n",
       "\n",
       "   SemanticF1  \n",
       "0  ✔️ [0.400]  \n",
       "1  ✔️ [0.444]  \n",
       "2  ✔️ [0.500]  \n",
       "3  ✔️ [0.400]  \n",
       "4  ✔️ [0.769]  \n",
       "5  ✔️ [0.600]  \n",
       "6  ✔️ [0.774]  \n",
       "7  ✔️ [0.750]  \n",
       "8  ✔️ [0.708]  \n",
       "9  ✔️ [0.284]  "
      ]
     },
     "metadata": {},
     "output_type": "display_data"
    },
    {
     "data": {
      "text/html": [
       "\n",
       "            <div style='\n",
       "                text-align: center;\n",
       "                font-size: 16px;\n",
       "                font-weight: bold;\n",
       "                color: #555;\n",
       "                margin: 10px 0;'>\n",
       "                ... 290 more rows not displayed ...\n",
       "            </div>\n",
       "            "
      ],
      "text/plain": [
       "<IPython.core.display.HTML object>"
      ]
     },
     "metadata": {},
     "output_type": "display_data"
    },
    {
     "data": {
      "text/plain": [
       "60.26"
      ]
     },
     "execution_count": 25,
     "metadata": {},
     "output_type": "execute_result"
    }
   ],
   "source": [
    "tp = dspy.MIPROv2(metric=metric, auto=\"light\", num_threads=24)  # use fewer threads if your rate limit is small\n",
    "\n",
    "optimized_rag = tp.compile(\n",
    "    rag,\n",
    "    trainset=trainset,\n",
    "    max_bootstrapped_demos=2,\n",
    "    max_labeled_demos=2,\n",
    "    requires_permission_to_run=False,\n",
    ")\n",
    "\n",
    "# Evaluate the optimized RAG.\n",
    "evaluate(optimized_rag)"
   ]
  },
  {
   "cell_type": "markdown",
   "metadata": {},
   "source": [
    "We can see that the performance got boosted to `60.26` with very few data under `light` mode. With more data and more iterations we can achieve a better result, please explore on your own!\n",
    "\n",
    "Let's check on an example here, asking the same question to the baseline `rag = RAG()` program, which was not optimized, and to the `optimized_rag = MIPROv2(..)(..)` program, after prompt optimization."
   ]
  },
  {
   "cell_type": "code",
   "execution_count": 26,
   "metadata": {},
   "outputs": [
    {
     "name": "stdout",
     "output_type": "stream",
     "text": [
      "You are correct that cmd+tab does not work on hidden or minimized windows. The Command + Tab shortcut is designed to switch between active applications, and minimized windows do not count as active. To access a minimized window, you would need to restore it first, either by clicking on its icon in the Dock or using other methods to unminimize it.\n"
     ]
    }
   ],
   "source": [
    "baseline = rag(question=\"cmd+tab does not work on hidden or minimized windows\")\n",
    "print(baseline.response)"
   ]
  },
  {
   "cell_type": "code",
   "execution_count": 27,
   "metadata": {},
   "outputs": [
    {
     "name": "stdout",
     "output_type": "stream",
     "text": [
      "The Command + Tab shortcut does not allow you to switch directly to hidden or minimized windows. To regain focus on a minimized application, you first need to switch to another application using Command + Tab and let it take focus. If you want to manage minimized windows more effectively, you can adjust settings in System Preferences under Mission Control or use other keyboard shortcuts like Command + Option + H + M to hide all other windows while minimizing the most recent one.\n"
     ]
    }
   ],
   "source": [
    "pred = optimized_rag(question=\"cmd+tab does not work on hidden or minimized windows\")\n",
    "print(pred.response)"
   ]
  },
  {
   "cell_type": "markdown",
   "metadata": {},
   "source": [
    "You can use `dspy.inspect_history(n=2)` to view the RAG prompt before and after the optimization. \n",
    "\n",
    "A sample comparison from our run can be found here:\n",
    "\n",
    "- [before optimization](https://gist.github.com/okhat/5d04648f2226e72e66e26a8cb1456ee4)\n",
    "- [after optimization](https://gist.github.com/okhat/79405b8889b4b07da577ee19f1a3479a).\n",
    "\n",
    "Concretely, in one of the runs of this notebook, the optimized prompt does the following (note that it may be different on a later rerun).\n",
    "\n",
    "1. Constructs the following instruction,\n",
    "```text\n",
    "Using the provided `context` and `question`, analyze the information step by step to generate a comprehensive and informative `response`. Ensure that the response clearly explains the concepts involved, highlights key distinctions, and addresses any complexities noted in the context.\n",
    "```\n",
    "\n",
    "2. And includes two fully worked out RAG examples with synthetic reasoning and answers, e.g. `how to transfer whatsapp voice message to computer?`."
   ]
  },
  {
   "cell_type": "markdown",
   "metadata": {},
   "source": [
    "## Keeping an eye on cost\n",
    "\n",
    "DSPy allows you to track the cost of your programs, which can be used to monitor the cost of your calls. Here, we'll show you how to track the cost of your programs with DSPy."
   ]
  },
  {
   "cell_type": "code",
   "execution_count": 28,
   "metadata": {},
   "outputs": [],
   "source": [
    "cost = sum([x[\"cost\"] for x in lm.history if x[\"cost\"] is not None])  # in USD, as calculated by LiteLLM for certain providers"
   ]
  },
  {
   "cell_type": "markdown",
   "metadata": {},
   "source": [
    "\n",
    "## What's next?\n",
    "\n",
    "Improving from around 54% to approximately 61% on this task, in terms of `SemanticF1`, was pretty easy through DSPy optimzier.\n",
    "\n",
    "But DSPy gives you paths to continue iterating on the quality of your system and we have barely scratched the surface.\n",
    "\n",
    "In general, you have the following tools:\n",
    "\n",
    "1. Explore better system architectures for your program, e.g. what if we ask the LM to generate search queries for the retriever? See, e.g., the [STORM pipeline](https://arxiv.org/abs/2402.14207) built in DSPy.\n",
    "2. Explore different [prompt optimizers](https://arxiv.org/abs/2406.11695) or [weight optimizers](https://arxiv.org/abs/2407.10930). See the Optimizers Docs.\n",
    "3. Scale inference time compute using DSPy Optimizers, e.g. via ensembling multiple post-optimization programs.\n",
    "4. Cut cost by distilling to a smaller LM, via prompt or weight optimization.\n",
    "\n",
    "How do you decide which ones to proceed with first?\n",
    "\n",
    "The first step is to look at your system outputs, which will allow you to identify the sources of lower performance if any. While doing all of this, make sure you continue to refine your metric, e.g. by optimizing against your judgments, and to collect more (or more realistic) data, e.g. from related domains or from putting a demo of your system in front of users."
   ]
  }
 ],
 "metadata": {
  "kernelspec": {
   "display_name": "dspy",
   "language": "python",
   "name": "python3"
  },
  "language_info": {
   "codemirror_mode": {
    "name": "ipython",
    "version": 3
   },
   "file_extension": ".py",
   "mimetype": "text/x-python",
   "name": "python",
   "nbconvert_exporter": "python",
   "pygments_lexer": "ipython3",
   "version": "3.12.4"
  }
 },
 "nbformat": 4,
 "nbformat_minor": 2
}
